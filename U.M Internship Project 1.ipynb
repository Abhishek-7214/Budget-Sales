{
 "cells": [
  {
   "cell_type": "code",
   "execution_count": 1,
   "id": "cc52c0dd-a5e3-4ae9-b8f2-21626ca02489",
   "metadata": {},
   "outputs": [],
   "source": [
    "import pandas as pd\n",
    "import numpy as np\n",
    "import seaborn as sns\n",
    "import matplotlib.pyplot as plt\n",
    "%matplotlib inline\n",
    "import warnings\n",
    "warnings.filterwarnings(\"ignore\")\n",
    "import itertools"
   ]
  },
  {
   "cell_type": "code",
   "execution_count": 2,
   "id": "4dd2731f-7155-4054-afc9-75f82476349f",
   "metadata": {},
   "outputs": [],
   "source": [
    "Calender = pd.read_excel(\"C:\\\\Users\\\\abhishek\\\\Documents\\\\Data set\\\\Budget Sales data\\\\AdventureWorks_Database.xlsx\", sheet_name = 'Calender')"
   ]
  },
  {
   "cell_type": "code",
   "execution_count": 3,
   "id": "ea5cc102-bb63-4fd9-8f26-516cc9946168",
   "metadata": {},
   "outputs": [
    {
     "data": {
      "text/html": [
       "<div>\n",
       "<style scoped>\n",
       "    .dataframe tbody tr th:only-of-type {\n",
       "        vertical-align: middle;\n",
       "    }\n",
       "\n",
       "    .dataframe tbody tr th {\n",
       "        vertical-align: top;\n",
       "    }\n",
       "\n",
       "    .dataframe thead th {\n",
       "        text-align: right;\n",
       "    }\n",
       "</style>\n",
       "<table border=\"1\" class=\"dataframe\">\n",
       "  <thead>\n",
       "    <tr style=\"text-align: right;\">\n",
       "      <th></th>\n",
       "      <th>Date</th>\n",
       "      <th>DateKey</th>\n",
       "      <th>Year</th>\n",
       "      <th>Quarter</th>\n",
       "      <th>MonthNum</th>\n",
       "      <th>Month</th>\n",
       "      <th>FiscalYear</th>\n",
       "      <th>FiscalQuarter</th>\n",
       "      <th>FiscalMonthNum</th>\n",
       "      <th>FiscalMonth</th>\n",
       "      <th>MonthYear</th>\n",
       "      <th>MonthYearLong</th>\n",
       "      <th>MonthYearNum</th>\n",
       "      <th>WeekdayNum</th>\n",
       "      <th>Weekday</th>\n",
       "      <th>WeekdayWeekend</th>\n",
       "    </tr>\n",
       "  </thead>\n",
       "  <tbody>\n",
       "    <tr>\n",
       "      <th>0</th>\n",
       "      <td>2016-04-03</td>\n",
       "      <td>20160403</td>\n",
       "      <td>2016</td>\n",
       "      <td>Q2</td>\n",
       "      <td>4</td>\n",
       "      <td>Apr</td>\n",
       "      <td>FY2016</td>\n",
       "      <td>FQ4</td>\n",
       "      <td>10</td>\n",
       "      <td>Apr</td>\n",
       "      <td>Apr-16</td>\n",
       "      <td>Apr-2016</td>\n",
       "      <td>201604</td>\n",
       "      <td>1</td>\n",
       "      <td>Sun</td>\n",
       "      <td>Weekend</td>\n",
       "    </tr>\n",
       "    <tr>\n",
       "      <th>1</th>\n",
       "      <td>2016-04-04</td>\n",
       "      <td>20160404</td>\n",
       "      <td>2016</td>\n",
       "      <td>Q2</td>\n",
       "      <td>4</td>\n",
       "      <td>Apr</td>\n",
       "      <td>FY2016</td>\n",
       "      <td>FQ4</td>\n",
       "      <td>10</td>\n",
       "      <td>Apr</td>\n",
       "      <td>Apr-16</td>\n",
       "      <td>Apr-2016</td>\n",
       "      <td>201604</td>\n",
       "      <td>2</td>\n",
       "      <td>Mon</td>\n",
       "      <td>Weekday</td>\n",
       "    </tr>\n",
       "    <tr>\n",
       "      <th>2</th>\n",
       "      <td>2016-04-05</td>\n",
       "      <td>20160405</td>\n",
       "      <td>2016</td>\n",
       "      <td>Q2</td>\n",
       "      <td>4</td>\n",
       "      <td>Apr</td>\n",
       "      <td>FY2016</td>\n",
       "      <td>FQ4</td>\n",
       "      <td>10</td>\n",
       "      <td>Apr</td>\n",
       "      <td>Apr-16</td>\n",
       "      <td>Apr-2016</td>\n",
       "      <td>201604</td>\n",
       "      <td>3</td>\n",
       "      <td>Tue</td>\n",
       "      <td>Weekday</td>\n",
       "    </tr>\n",
       "    <tr>\n",
       "      <th>3</th>\n",
       "      <td>2016-04-06</td>\n",
       "      <td>20160406</td>\n",
       "      <td>2016</td>\n",
       "      <td>Q2</td>\n",
       "      <td>4</td>\n",
       "      <td>Apr</td>\n",
       "      <td>FY2016</td>\n",
       "      <td>FQ4</td>\n",
       "      <td>10</td>\n",
       "      <td>Apr</td>\n",
       "      <td>Apr-16</td>\n",
       "      <td>Apr-2016</td>\n",
       "      <td>201604</td>\n",
       "      <td>4</td>\n",
       "      <td>Wed</td>\n",
       "      <td>Weekday</td>\n",
       "    </tr>\n",
       "    <tr>\n",
       "      <th>4</th>\n",
       "      <td>2016-04-07</td>\n",
       "      <td>20160407</td>\n",
       "      <td>2016</td>\n",
       "      <td>Q2</td>\n",
       "      <td>4</td>\n",
       "      <td>Apr</td>\n",
       "      <td>FY2016</td>\n",
       "      <td>FQ4</td>\n",
       "      <td>10</td>\n",
       "      <td>Apr</td>\n",
       "      <td>Apr-16</td>\n",
       "      <td>Apr-2016</td>\n",
       "      <td>201604</td>\n",
       "      <td>5</td>\n",
       "      <td>Thu</td>\n",
       "      <td>Weekday</td>\n",
       "    </tr>\n",
       "  </tbody>\n",
       "</table>\n",
       "</div>"
      ],
      "text/plain": [
       "        Date   DateKey  Year Quarter  MonthNum Month FiscalYear FiscalQuarter  \\\n",
       "0 2016-04-03  20160403  2016      Q2         4   Apr     FY2016           FQ4   \n",
       "1 2016-04-04  20160404  2016      Q2         4   Apr     FY2016           FQ4   \n",
       "2 2016-04-05  20160405  2016      Q2         4   Apr     FY2016           FQ4   \n",
       "3 2016-04-06  20160406  2016      Q2         4   Apr     FY2016           FQ4   \n",
       "4 2016-04-07  20160407  2016      Q2         4   Apr     FY2016           FQ4   \n",
       "\n",
       "   FiscalMonthNum FiscalMonth MonthYear MonthYearLong  MonthYearNum  \\\n",
       "0              10         Apr    Apr-16      Apr-2016        201604   \n",
       "1              10         Apr    Apr-16      Apr-2016        201604   \n",
       "2              10         Apr    Apr-16      Apr-2016        201604   \n",
       "3              10         Apr    Apr-16      Apr-2016        201604   \n",
       "4              10         Apr    Apr-16      Apr-2016        201604   \n",
       "\n",
       "   WeekdayNum Weekday WeekdayWeekend  \n",
       "0           1     Sun        Weekend  \n",
       "1           2     Mon        Weekday  \n",
       "2           3     Tue        Weekday  \n",
       "3           4     Wed        Weekday  \n",
       "4           5     Thu        Weekday  "
      ]
     },
     "execution_count": 3,
     "metadata": {},
     "output_type": "execute_result"
    }
   ],
   "source": [
    "Calender.head()"
   ]
  },
  {
   "cell_type": "code",
   "execution_count": 4,
   "id": "d68f9906-5eb6-4263-8147-414faee49483",
   "metadata": {},
   "outputs": [],
   "source": [
    "Customer= pd.read_excel(\"C:\\\\Users\\\\abhishek\\\\Documents\\\\Data set\\\\Budget Sales data\\\\AdventureWorks_Database.xlsx\", sheet_name = 'Customers')"
   ]
  },
  {
   "cell_type": "code",
   "execution_count": 5,
   "id": "79eb403b-19a0-4a53-a7fe-a2b5fee66a86",
   "metadata": {},
   "outputs": [
    {
     "data": {
      "text/html": [
       "<div>\n",
       "<style scoped>\n",
       "    .dataframe tbody tr th:only-of-type {\n",
       "        vertical-align: middle;\n",
       "    }\n",
       "\n",
       "    .dataframe tbody tr th {\n",
       "        vertical-align: top;\n",
       "    }\n",
       "\n",
       "    .dataframe thead th {\n",
       "        text-align: right;\n",
       "    }\n",
       "</style>\n",
       "<table border=\"1\" class=\"dataframe\">\n",
       "  <thead>\n",
       "    <tr style=\"text-align: right;\">\n",
       "      <th></th>\n",
       "      <th>CustomerKey</th>\n",
       "      <th>FirstName</th>\n",
       "      <th>LastName</th>\n",
       "      <th>FullName</th>\n",
       "      <th>BirthDate</th>\n",
       "      <th>MaritalStatus</th>\n",
       "      <th>Gender</th>\n",
       "      <th>YearlyIncome</th>\n",
       "      <th>TotalChildren</th>\n",
       "      <th>NumberChildrenAtHome</th>\n",
       "      <th>Education</th>\n",
       "      <th>Occupation</th>\n",
       "      <th>HouseOwnerFlag</th>\n",
       "      <th>NumberCarsOwned</th>\n",
       "      <th>AddressLine1</th>\n",
       "      <th>DateFirstPurchase</th>\n",
       "      <th>CommuteDistance</th>\n",
       "    </tr>\n",
       "  </thead>\n",
       "  <tbody>\n",
       "    <tr>\n",
       "      <th>0</th>\n",
       "      <td>11000</td>\n",
       "      <td>Jon</td>\n",
       "      <td>Yang</td>\n",
       "      <td>Yang, Jon</td>\n",
       "      <td>1966-04-08</td>\n",
       "      <td>M</td>\n",
       "      <td>M</td>\n",
       "      <td>90000</td>\n",
       "      <td>2</td>\n",
       "      <td>0</td>\n",
       "      <td>Bachelors</td>\n",
       "      <td>Professional</td>\n",
       "      <td>1</td>\n",
       "      <td>0</td>\n",
       "      <td>3761 N. 14th St</td>\n",
       "      <td>2014-01-22</td>\n",
       "      <td>1-2 Miles</td>\n",
       "    </tr>\n",
       "    <tr>\n",
       "      <th>1</th>\n",
       "      <td>11001</td>\n",
       "      <td>Eugene</td>\n",
       "      <td>Huang</td>\n",
       "      <td>Huang, Eugene</td>\n",
       "      <td>1965-05-14</td>\n",
       "      <td>S</td>\n",
       "      <td>M</td>\n",
       "      <td>60000</td>\n",
       "      <td>3</td>\n",
       "      <td>3</td>\n",
       "      <td>Bachelors</td>\n",
       "      <td>Professional</td>\n",
       "      <td>0</td>\n",
       "      <td>1</td>\n",
       "      <td>2243 W St.</td>\n",
       "      <td>2014-01-18</td>\n",
       "      <td>0-1 Miles</td>\n",
       "    </tr>\n",
       "    <tr>\n",
       "      <th>2</th>\n",
       "      <td>11002</td>\n",
       "      <td>Ruben</td>\n",
       "      <td>Torres</td>\n",
       "      <td>Torres, Ruben</td>\n",
       "      <td>1965-08-12</td>\n",
       "      <td>M</td>\n",
       "      <td>M</td>\n",
       "      <td>60000</td>\n",
       "      <td>3</td>\n",
       "      <td>3</td>\n",
       "      <td>Bachelors</td>\n",
       "      <td>Professional</td>\n",
       "      <td>1</td>\n",
       "      <td>1</td>\n",
       "      <td>5844 Linden Land</td>\n",
       "      <td>2014-01-10</td>\n",
       "      <td>2-5 Miles</td>\n",
       "    </tr>\n",
       "    <tr>\n",
       "      <th>3</th>\n",
       "      <td>11003</td>\n",
       "      <td>Christy</td>\n",
       "      <td>Zhu</td>\n",
       "      <td>Zhu, Christy</td>\n",
       "      <td>1968-02-15</td>\n",
       "      <td>S</td>\n",
       "      <td>F</td>\n",
       "      <td>70000</td>\n",
       "      <td>0</td>\n",
       "      <td>0</td>\n",
       "      <td>Bachelors</td>\n",
       "      <td>Professional</td>\n",
       "      <td>0</td>\n",
       "      <td>1</td>\n",
       "      <td>1825 Village Pl.</td>\n",
       "      <td>2014-01-01</td>\n",
       "      <td>5-10 Miles</td>\n",
       "    </tr>\n",
       "    <tr>\n",
       "      <th>4</th>\n",
       "      <td>11004</td>\n",
       "      <td>Elizabeth</td>\n",
       "      <td>Johnson</td>\n",
       "      <td>Johnson, Elizabeth</td>\n",
       "      <td>1968-08-08</td>\n",
       "      <td>S</td>\n",
       "      <td>F</td>\n",
       "      <td>80000</td>\n",
       "      <td>5</td>\n",
       "      <td>5</td>\n",
       "      <td>Bachelors</td>\n",
       "      <td>Professional</td>\n",
       "      <td>1</td>\n",
       "      <td>4</td>\n",
       "      <td>7553 Harness Circle</td>\n",
       "      <td>2014-01-26</td>\n",
       "      <td>1-2 Miles</td>\n",
       "    </tr>\n",
       "  </tbody>\n",
       "</table>\n",
       "</div>"
      ],
      "text/plain": [
       "   CustomerKey  FirstName LastName            FullName  BirthDate  \\\n",
       "0        11000        Jon     Yang           Yang, Jon 1966-04-08   \n",
       "1        11001     Eugene    Huang       Huang, Eugene 1965-05-14   \n",
       "2        11002      Ruben   Torres       Torres, Ruben 1965-08-12   \n",
       "3        11003    Christy      Zhu        Zhu, Christy 1968-02-15   \n",
       "4        11004  Elizabeth  Johnson  Johnson, Elizabeth 1968-08-08   \n",
       "\n",
       "  MaritalStatus Gender  YearlyIncome  TotalChildren  NumberChildrenAtHome  \\\n",
       "0             M      M         90000              2                     0   \n",
       "1             S      M         60000              3                     3   \n",
       "2             M      M         60000              3                     3   \n",
       "3             S      F         70000              0                     0   \n",
       "4             S      F         80000              5                     5   \n",
       "\n",
       "   Education    Occupation  HouseOwnerFlag  NumberCarsOwned  \\\n",
       "0  Bachelors  Professional               1                0   \n",
       "1  Bachelors  Professional               0                1   \n",
       "2  Bachelors  Professional               1                1   \n",
       "3  Bachelors  Professional               0                1   \n",
       "4  Bachelors  Professional               1                4   \n",
       "\n",
       "          AddressLine1 DateFirstPurchase CommuteDistance  \n",
       "0      3761 N. 14th St        2014-01-22       1-2 Miles  \n",
       "1           2243 W St.        2014-01-18       0-1 Miles  \n",
       "2     5844 Linden Land        2014-01-10       2-5 Miles  \n",
       "3     1825 Village Pl.        2014-01-01      5-10 Miles  \n",
       "4  7553 Harness Circle        2014-01-26       1-2 Miles  "
      ]
     },
     "execution_count": 5,
     "metadata": {},
     "output_type": "execute_result"
    }
   ],
   "source": [
    "Customer.head()"
   ]
  },
  {
   "cell_type": "code",
   "execution_count": 6,
   "id": "9988bfcf-c769-4367-80fa-9f4550834be3",
   "metadata": {},
   "outputs": [
    {
     "data": {
      "text/plain": [
       "(18484, 17)"
      ]
     },
     "execution_count": 6,
     "metadata": {},
     "output_type": "execute_result"
    }
   ],
   "source": [
    "Customer.shape"
   ]
  },
  {
   "cell_type": "code",
   "execution_count": null,
   "id": "8424cbd2-18f4-4a31-9a94-6a0d09432f8a",
   "metadata": {},
   "outputs": [],
   "source": [
    "Product = pd.read_excel(\"C:\\\\Users\\\\abhishek\\\\Documents\\\\Data set\\\\Budget Sales data\\\\AdventureWorks_Database.xlsx\", sheet_name = 'Product')"
   ]
  },
  {
   "cell_type": "code",
   "execution_count": null,
   "id": "7eb44cc9-6d40-4212-8add-cf988fd63599",
   "metadata": {},
   "outputs": [],
   "source": [
    "Product =Product.drop(columns = 'Photo')"
   ]
  },
  {
   "cell_type": "code",
   "execution_count": null,
   "id": "1a7fe653-6e90-4ea2-81bd-c28fef2adf3c",
   "metadata": {},
   "outputs": [],
   "source": [
    "Product"
   ]
  },
  {
   "cell_type": "code",
   "execution_count": null,
   "id": "a764cc3b-4d7e-48b2-a690-3b6db486a7ad",
   "metadata": {},
   "outputs": [],
   "source": [
    "Territory= pd.read_excel(\"C:\\\\Users\\\\abhishek\\\\Documents\\\\Data set\\\\Budget Sales data\\\\AdventureWorks_Database.xlsx\", sheet_name = 'Territory')"
   ]
  },
  {
   "cell_type": "code",
   "execution_count": null,
   "id": "7f36372a-c9b4-4c32-a374-d39085ba00cd",
   "metadata": {},
   "outputs": [],
   "source": [
    "Territory = Territory.drop(columns = 'RegionImage')\n"
   ]
  },
  {
   "cell_type": "code",
   "execution_count": null,
   "id": "b665b757-4062-42d8-92b2-a3b10a42b87b",
   "metadata": {},
   "outputs": [],
   "source": [
    "Territory"
   ]
  },
  {
   "cell_type": "code",
   "execution_count": null,
   "id": "491f3742-8eeb-485b-ad54-68c8f1b24514",
   "metadata": {},
   "outputs": [],
   "source": [
    "Sales = pd.read_excel(\"C:\\\\Users\\\\abhishek\\\\Documents\\\\Data set\\\\Budget Sales data\\\\AdventureWorks_Database.xlsx\", sheet_name = 'Sales')"
   ]
  },
  {
   "cell_type": "code",
   "execution_count": null,
   "id": "653db54a-9b62-468a-a864-5e58d4bf47fc",
   "metadata": {},
   "outputs": [],
   "source": [
    "Sales.columns"
   ]
  },
  {
   "cell_type": "code",
   "execution_count": null,
   "id": "de3f1abf-6bd2-45e1-be17-ec7fb753b1df",
   "metadata": {},
   "outputs": [],
   "source": [
    "Sales = Sales.drop(columns = ['Unnamed: 13', 'Unnamed: 14', 'Unnamed: 15', 'Unnamed: 16',\n",
    "       'Unnamed: 17', 'Unnamed: 18', 'Unnamed: 19', 'StandardCost',\n",
    "       'List Price', 'Unnamed: 22', 'diif std cost', 'diff list price'])"
   ]
  },
  {
   "cell_type": "code",
   "execution_count": null,
   "id": "2dbea3e8-4cf5-4933-9867-35b5ed37130a",
   "metadata": {},
   "outputs": [],
   "source": [
    "# Merging sales, Customer, Product, and Territory data"
   ]
  },
  {
   "cell_type": "code",
   "execution_count": null,
   "id": "6faf6e01-b522-4f78-b302-1806f6fad270",
   "metadata": {},
   "outputs": [],
   "source": [
    "MergedData = pd.merge(Sales, Customer, on = \"CustomerKey\")"
   ]
  },
  {
   "cell_type": "code",
   "execution_count": null,
   "id": "d0eae20d-6ee7-4d39-a554-0b9af836d322",
   "metadata": {},
   "outputs": [],
   "source": [
    "MergedData = pd.merge(MergedData, Product, on = \"ProductKey\")"
   ]
  },
  {
   "cell_type": "code",
   "execution_count": null,
   "id": "e539ada9-4ef9-43b1-8e2e-4df81508b64e",
   "metadata": {},
   "outputs": [],
   "source": [
    "MergedData = pd.merge(MergedData, Territory, on = \"SalesTerritoryKey\")"
   ]
  },
  {
   "cell_type": "code",
   "execution_count": null,
   "id": "95aeab84-4358-4f8e-8674-964d1ac10464",
   "metadata": {},
   "outputs": [],
   "source": [
    "MergedData"
   ]
  },
  {
   "cell_type": "code",
   "execution_count": null,
   "id": "004cf642-6cd5-4f7f-9a14-5d98a18faebb",
   "metadata": {},
   "outputs": [],
   "source": [
    "MergedData.columns"
   ]
  },
  {
   "cell_type": "code",
   "execution_count": null,
   "id": "04e9ddc6-eed5-4078-a9a6-5f7a760ddd98",
   "metadata": {},
   "outputs": [],
   "source": [
    "MergedData.shape"
   ]
  },
  {
   "cell_type": "code",
   "execution_count": null,
   "id": "b1fb0d35-5ec6-4069-ae21-c713f6f78983",
   "metadata": {},
   "outputs": [],
   "source": [
    "# Creating the line chart to figure out the Percentage of missing values in all the fields\n",
    "\n",
    "fig = plt.figure(figsize = (18,6))\n",
    "miss_MergedData = pd.DataFrame((MergedData.isnull().sum())*100/MergedData.shape[0]).reset_index()\n",
    "miss_MergedData[\"type\"] =  \"MergedData\"\n",
    "Pointplot_chart = sns.pointplot(x=\"index\",y=0,data=miss_MergedData,hue=\"type\")\n",
    "plt.xticks(rotation =90,fontsize=9)\n",
    "plt.title(\"Percentage of Missing values is MergedData\")\n",
    "plt.xlabel(\"COLUMNS\")\n",
    "plt.ylabel(\"PERCENTAGE\")\n",
    "Pointplot_chart.set_facecolor(\"k\")\n",
    "fig.set_facecolor(\"lightgrey\")"
   ]
  },
  {
   "cell_type": "code",
   "execution_count": null,
   "id": "404a0c81-9ee4-4cae-b5f9-7ad66b57c343",
   "metadata": {},
   "outputs": [],
   "source": [
    "MergedData = MergedData.drop('Color', axis=1)"
   ]
  },
  {
   "cell_type": "code",
   "execution_count": null,
   "id": "8d6a8590-87f7-48a3-a8db-704d71fd07b8",
   "metadata": {},
   "outputs": [],
   "source": [
    "MergedData"
   ]
  },
  {
   "cell_type": "code",
   "execution_count": null,
   "id": "81c3f00a-1a46-4dc2-a3c2-7b12b27e39ca",
   "metadata": {},
   "outputs": [],
   "source": [
    "MergedData.describe()"
   ]
  },
  {
   "cell_type": "code",
   "execution_count": null,
   "id": "4499d751-2735-4a17-862c-f29e6c7dde36",
   "metadata": {},
   "outputs": [],
   "source": [
    "# Dataset information\n",
    "MergedData.info()"
   ]
  },
  {
   "cell_type": "code",
   "execution_count": null,
   "id": "3ea75bc2-c8cc-4c58-a983-07311d814f5e",
   "metadata": {},
   "outputs": [],
   "source": [
    "Clean_Data = MergedData.copy()"
   ]
  },
  {
   "cell_type": "code",
   "execution_count": null,
   "id": "ea48b6d0-edaa-4d85-8119-29f922acc4a6",
   "metadata": {},
   "outputs": [],
   "source": [
    "Clean_Data.drop(columns =['ProductKey', 'PromotionKey', 'SalesTerritoryKey', 'SalesOrderNumber', 'SalesOrderLineNumber', 'TaxAmt', 'FirstName', 'LastName', 'FullName', 'AddressLine1', 'DaysToManufacture', 'ProductLine', 'ProductDescription', 'Region', 'Group'], axis = 1, inplace = True)"
   ]
  },
  {
   "cell_type": "code",
   "execution_count": null,
   "id": "c19a775b-ab62-4dc7-b77f-4e756e0b7c23",
   "metadata": {},
   "outputs": [],
   "source": [
    "Clean_Data"
   ]
  },
  {
   "cell_type": "code",
   "execution_count": null,
   "id": "e26ef8dc-1d71-404b-8539-96151f62e4a4",
   "metadata": {},
   "outputs": [],
   "source": [
    "# Dimension of Cleaned data\n",
    "Clean_Data.shape"
   ]
  },
  {
   "cell_type": "code",
   "execution_count": null,
   "id": "43070d5a-2d6a-4cbd-ac19-782755695415",
   "metadata": {},
   "outputs": [],
   "source": [
    "gen = Clean_Data.groupby('Gender')['CustomerKey'].count()\n",
    "gen"
   ]
  },
  {
   "cell_type": "code",
   "execution_count": null,
   "id": "214b809f-d364-4a68-82e6-7040c09fa1ae",
   "metadata": {},
   "outputs": [],
   "source": [
    "# Gender Distribution of Customer by ploting Pie chart\n",
    "\n",
    "plt.figure(figsize=(5,5))\n",
    "plt.pie(gen, labels=['Female','Male'], autopct= '%0.0f%%')\n",
    "plt.title('Gender Distribution of Customers', fontsize= 20)\n",
    "plt.show()"
   ]
  },
  {
   "cell_type": "markdown",
   "id": "e842918b-6b8f-4155-8e3a-f5a3e528ed56",
   "metadata": {},
   "source": [
    "**--> Male and Female customers are equal.**"
   ]
  },
  {
   "cell_type": "code",
   "execution_count": null,
   "id": "54e24f59-4b89-4540-83e5-b2b0fea7b100",
   "metadata": {},
   "outputs": [],
   "source": [
    "Mari = Clean_Data.groupby('MaritalStatus')['CustomerKey'].count()\n",
    "Mari"
   ]
  },
  {
   "cell_type": "code",
   "execution_count": null,
   "id": "d89246c8-adba-43bb-99d5-487c3980ff91",
   "metadata": {},
   "outputs": [],
   "source": [
    "# MaritalStatus Distribution of Customer by ploting Pie chart\n",
    "\n",
    "plt.figure(figsize=(5,5))\n",
    "plt.pie(Mari, labels=['Married', 'Single'], autopct= '%0.0f%%')\n",
    "plt.title('Gender Distribution of Customers', fontsize= 20)\n",
    "plt.show()"
   ]
  },
  {
   "cell_type": "markdown",
   "id": "5578896a-625b-4812-966b-69f10db461c5",
   "metadata": {},
   "source": [
    "**-->There are more married Customers than single Customers.** "
   ]
  },
  {
   "cell_type": "code",
   "execution_count": null,
   "id": "e4d93c54-3c9f-47ff-b8ea-256b2f5a68cb",
   "metadata": {},
   "outputs": [],
   "source": [
    "# Evaluating relationship between Total children and no of customers by ploting bar graph\n",
    "\n",
    "sns.set_style('whitegrid')\n",
    "tcd = sns.countplot(x = 'TotalChildren', data = Clean_Data, palette = ['r','g','b','c','y','k'])\n",
    "plt.title('Count of customer vs Total Children', fontsize = 20)"
   ]
  },
  {
   "cell_type": "markdown",
   "id": "cae96b01-1585-4c36-992a-e6690fcf51e1",
   "metadata": {},
   "source": [
    "**-->Customer with more than 2 children are very less as compared to the customers with children less than 3**"
   ]
  },
  {
   "cell_type": "code",
   "execution_count": null,
   "id": "3c85536d-98fc-4e94-b18f-dc6a2b8655a1",
   "metadata": {},
   "outputs": [],
   "source": [
    "# Evaluating relationship between Education of customers and no of customers by ploting bar graph\n",
    "\n",
    "plt.figure(figsize=(7,5))\n",
    "sns.set_style('whitegrid')\n",
    "plt.xticks(rotation= 45)\n",
    "plt.title('Count of customer vs Education', fontsize=15)\n",
    "sns.countplot(x='Education', data= Clean_Data, palette = ['r','g','b','c','y'])\n",
    "plt.show()"
   ]
  },
  {
   "cell_type": "markdown",
   "id": "048f4ebf-53de-4e1f-b502-ac0304cb6701",
   "metadata": {},
   "source": [
    "**-->Most of the customers are graduates or have partial College Education**"
   ]
  },
  {
   "cell_type": "code",
   "execution_count": null,
   "id": "a864a5a4-ff3d-45e7-a6f0-7fc19c53ed4a",
   "metadata": {},
   "outputs": [],
   "source": [
    "# Evaluating relationship between occupation of the customers and no of customers by ploting barchart\n",
    "\n",
    "plt.figure(figsize=(8,5))\n",
    "sns.countplot(x='Occupation', data=Clean_Data, palette = ['r','g','b','c','y'])\n",
    "plt.title('Count of Customers Vs Occupation', fontsize = 15)"
   ]
  },
  {
   "cell_type": "markdown",
   "id": "8c327e8e-4db2-4778-adac-a2f7e8225829",
   "metadata": {},
   "source": [
    "**-->Mosts of the customer are from professional, Skilled Manual, and Management**"
   ]
  },
  {
   "cell_type": "code",
   "execution_count": null,
   "id": "3762e6b3-ccd0-454a-a1d6-8edf455b20fc",
   "metadata": {},
   "outputs": [],
   "source": [
    "# Evaluating relationship b/w CommuteDistance of the customer and no of customers by ploting bar chart\n",
    "plt.figure(figsize=(8,5))\n",
    "sns.countplot(x='CommuteDistance', data=Clean_Data, palette = ['r','g','b','c','y'])\n",
    "plt.title('Count of Customers Vs CommuteDistance', fontsize = 15)"
   ]
  },
  {
   "cell_type": "markdown",
   "id": "c61ec8b3-76e7-415b-8850-702a36880236",
   "metadata": {},
   "source": [
    "**--> Most of the customer are those who has less commute distance i.e. 0-1. Other customer who has commute distance between 1 to 10, has nearly have same customer count**"
   ]
  },
  {
   "cell_type": "code",
   "execution_count": null,
   "id": "fd88f22c-7381-4379-964b-3e8229f412d8",
   "metadata": {},
   "outputs": [],
   "source": [
    "cust = Clean_Data.groupby('Category')['CustomerKey'].count()\n",
    "cust"
   ]
  },
  {
   "cell_type": "code",
   "execution_count": null,
   "id": "1d36bd1a-0fff-4dea-bb5c-19c85c12c2cc",
   "metadata": {
    "scrolled": true
   },
   "outputs": [],
   "source": [
    "# Assuming Clean_Data is your DataFrame and 'Customerkey' is the column to count\n",
    "# and 'Category' is the column with labels\n",
    "values = Clean_Data['Category'].value_counts()\n",
    "labels = values.index\n",
    "\n",
    "# Creating the pie chart\n",
    "plt.figure(figsize=(8, 5))\n",
    "plt.pie(values, labels=labels, autopct=\"%0.1f%%\", shadow=True, startangle=100,\n",
    "        textprops={'fontsize': 10},\n",
    "        wedgeprops={'linewidth': 3, 'edgecolor': 'k'})\n",
    "\n",
    "# Display the plot\n",
    "plt.show()\n"
   ]
  },
  {
   "cell_type": "markdown",
   "id": "a6b4bcc0-24d3-4014-a189-0468baa684b4",
   "metadata": {},
   "source": [
    "**-->Most of the customer are buying A**"
   ]
  },
  {
   "cell_type": "code",
   "execution_count": null,
   "id": "19b54e5b-b2e0-432e-b4f7-a9138dbd3dc0",
   "metadata": {
    "scrolled": true
   },
   "outputs": [],
   "source": [
    "# Define the color palette\n",
    "colors = ['#1f77b4', '#ff7f0e', '#2ca02c', '#d62728', '#9467bd', '#8c564b', '#e377c2', \n",
    "          '#7f7f7f', '#bcbd22', '#17becf', '#aec7e8', '#ffbb78', '#98df8a', '#ff9896', \n",
    "          '#c5b0d5', '#c49c94', '#f7b6d2']\n",
    "\n",
    "# Prepare the data: Count the occurrences of each 'SubCategory'\n",
    "subcat_counts = Clean_Data['SubCategory'].value_counts().reset_index()\n",
    "subcat_counts.columns = ['SubCategory', 'Count']\n",
    "\n",
    "# Create the horizontal bar plot\n",
    "plt.figure(figsize=(15, 6))\n",
    "sns.set_context(\"paper\", font_scale=2)\n",
    "sns.set_style('whitegrid')\n",
    "sns.barplot(y='SubCategory', x='Count', data=subcat_counts, palette=colors)\n",
    "\n",
    "# Customize the plot\n",
    "plt.xticks(rotation=90)\n",
    "plt.title('Count of Customers Vs Sub-Category')\n",
    "\n",
    "# Add data labels\n",
    "for index, value in enumerate(subcat_counts['Count']):\n",
    "    plt.text(value, index, f'{value}', va='center', ha='left', fontsize=12)\n",
    "\n",
    "# Display the plot\n",
    "plt.show()"
   ]
  },
  {
   "cell_type": "markdown",
   "id": "3f168e1f-85da-4480-9064-11adee0c96e4",
   "metadata": {},
   "source": [
    "**-->Most of the customers are interested in buying accessories like tires, tubes, bottles, cages & helmets. Within the bikes category segment, road and mountan bikes are more sold.**"
   ]
  },
  {
   "cell_type": "code",
   "execution_count": null,
   "id": "ecbeebb2-4a26-4f4e-9666-ecb82d04c019",
   "metadata": {},
   "outputs": [],
   "source": [
    "# Country Distribution of Customer by Ploting pie chart\n",
    "values = Clean_Data['Country'].value_counts()\n",
    "labels = values.index\n",
    "\n",
    "# Creating the pie chart\n",
    "plt.figure(figsize=(8, 5))\n",
    "plt.pie(values, labels=labels, autopct=\"%0.2f%%\", shadow=True, startangle=100,\n",
    "        textprops={'fontsize': 10},\n",
    "        wedgeprops={'linewidth': 3, 'edgecolor': 'k'})\n",
    "plt.title(\"Country Distribution of Customers\", fontsize=20)\n",
    "\n",
    "# Display the plot\n",
    "plt.show()"
   ]
  },
  {
   "cell_type": "markdown",
   "id": "9f7e01e0-7077-44fd-816e-f6d5e9f0f211",
   "metadata": {},
   "source": [
    "**-->More than 50% of customers are from United States and Australia**"
   ]
  },
  {
   "cell_type": "code",
   "execution_count": null,
   "id": "43883752-0bf0-453b-8ec2-5d7b5728901b",
   "metadata": {},
   "outputs": [],
   "source": [
    "# Gernal Distribution of sales by plotting Pie chart\n",
    "values = Clean_Data.groupby('Gender')['SalesAmount'].sum()\n",
    "labels = values.index\n",
    "\n",
    "# Creating the pie chart\n",
    "plt.figure(figsize=(8, 5))\n",
    "plt.pie(values, labels=labels, autopct=\"%0.2f%%\", shadow=True,\n",
    "        textprops={'fontsize': 10},\n",
    "        wedgeprops={'linewidth': 3, 'edgecolor': 'k'})\n",
    "plt.title(\"Gender distribution of Sales\", fontsize=20)\n",
    "\n",
    "# Display the plot\n",
    "plt.show()"
   ]
  },
  {
   "cell_type": "markdown",
   "id": "370b86a5-b601-4de4-bdf9-c065525e0288",
   "metadata": {},
   "source": [
    "**-->Sales from male and female customer nearly same.**"
   ]
  },
  {
   "cell_type": "code",
   "execution_count": null,
   "id": "fecb10da-de86-44d7-b846-b8c8cfcb9890",
   "metadata": {},
   "outputs": [],
   "source": [
    "# Marital Status Distribution of Sales by ploting pie chart\n",
    "\n",
    "values = Clean_Data.groupby('MaritalStatus')['SalesAmount'].sum()\n",
    "labels = values.index\n",
    "\n",
    "# Creating the pie chart\n",
    "plt.figure(figsize=(8, 5))\n",
    "plt.pie(values, labels=labels, autopct=\"%0.2f%%\", shadow=True,\n",
    "        textprops={'fontsize': 10},\n",
    "        wedgeprops={'linewidth': 3, 'edgecolor': 'k'})\n",
    "plt.title(\"MaritalStatus distribution of Sales\", fontsize=20)\n",
    "\n",
    "# Display the plot\n",
    "plt.show()"
   ]
  },
  {
   "cell_type": "markdown",
   "id": "c049dd7b-47d5-4e4a-9ac9-6f7b54a92ace",
   "metadata": {},
   "source": [
    "**-->Sales of married customers is slightly more than single customers.**"
   ]
  },
  {
   "cell_type": "code",
   "execution_count": null,
   "id": "504b4c7d-18ae-4b6d-8f31-a338196aa7cd",
   "metadata": {},
   "outputs": [],
   "source": [
    "# Evaluating relationship b/w yearly income and Sales Amount by ploting Line graph\n",
    "plt.figure(figsize=(15,6))\n",
    "Sales_by_yearly_income = Clean_Data.groupby('YearlyIncome')['SalesAmount'].sum()\n",
    "labels = Sales_by_yearly_income.index\n",
    "plt.plot(labels, Sales_by_yearly_income,color = 'r', marker = 'o', linestyle = '--',\n",
    "        markersize = 8)\n",
    "\n",
    "# Adding title and labels\n",
    "plt.title('Relationship between Yearly Income and Sales Amount', fontsize=20)\n",
    "plt.xlabel('Yearly Income', fontsize=14)\n",
    "plt.ylabel('Sales Amount', fontsize=14)\n",
    "# Display \n",
    "plt.show()"
   ]
  },
  {
   "cell_type": "markdown",
   "id": "b91b0033-c311-4ce8-acd4-ac6ec8a4b20c",
   "metadata": {},
   "source": [
    "**-->Most of the sales are comeing from middel class with yearly income form 30000 to 70000 Dollers.**"
   ]
  },
  {
   "cell_type": "code",
   "execution_count": null,
   "id": "f98898a3-6429-44e8-8dae-2331e046d8ed",
   "metadata": {},
   "outputs": [],
   "source": [
    "# Evalutating relationship b/w Sales Amount and Totla Children\n",
    "plt.figure(figsize=(8, 6))\n",
    "sns.barplot(x='TotalChildren', y='SalesAmount', data=Clean_Data, estimator=sum, palette=['r', 'g', 'b', 'c', 'y'])\n",
    "plt.title('Sales Vs Total Children', fontsize=15)\n",
    "\n",
    "# Display the plot\n",
    "plt.show()"
   ]
  },
  {
   "cell_type": "markdown",
   "id": "c485307a-59e4-48f9-bb71-96af8ab70fe4",
   "metadata": {},
   "source": [
    "**-->Most of the sales are coming from customer haveing 0 to 2 children.**"
   ]
  },
  {
   "cell_type": "code",
   "execution_count": null,
   "id": "d1c3a4da-e840-4038-be7c-6fb3914fe937",
   "metadata": {},
   "outputs": [],
   "source": [
    "# Evaluating relationship b/w  sales and education by plotting bar chart\n",
    "plt.figure(figsize=(8, 6))\n",
    "sns.barplot(y='Education', x='SalesAmount', data=Clean_Data, estimator=sum, palette=['r', 'g', 'b', 'c', 'y'])\n",
    "plt.title('Sales Vs Education', fontsize=15)\n",
    "# Display the plot\n",
    "plt.show()"
   ]
  },
  {
   "cell_type": "markdown",
   "id": "756b041e-9154-492a-a371-6c04933a75df",
   "metadata": {},
   "source": [
    "**-->Most of sales comes from customers with Bachelors and partial Collage education**"
   ]
  },
  {
   "cell_type": "code",
   "execution_count": null,
   "id": "eaa453cd-c37b-4944-89a8-0df5e4de7d7e",
   "metadata": {},
   "outputs": [],
   "source": [
    "# Evalutating relationship b/w Sales Amount and Occupation by ploting bar chart\n",
    "plt.figure(figsize=(8, 5))\n",
    "sns.set_context(\"paper\", font_scale=2)\n",
    "sns.barplot(x='Occupation', y='SalesAmount', data=Clean_Data, estimator=sum, palette=['r', 'g', 'b', 'c', 'y'],)\n",
    "plt.title('Sales Vs Occupation', fontsize=15)\n",
    "plt.xticks( fontsize=10)\n",
    "# Display the plot\n",
    "plt.show()"
   ]
  },
  {
   "cell_type": "markdown",
   "id": "bfa39a9b-8110-400a-a502-12a7554c3ac3",
   "metadata": {},
   "source": [
    "**-->Professionals contribute most saels of company**"
   ]
  },
  {
   "cell_type": "code",
   "execution_count": null,
   "id": "0b733179-57ff-4f55-9a98-67f48aea2024",
   "metadata": {},
   "outputs": [],
   "source": [
    "# Evalutating relationship b/w Sales Amount and Commute Distance by ploting bar chart\n",
    "plt.figure(figsize=(8, 5))\n",
    "sns.barplot(x='CommuteDistance', y='SalesAmount', data=Clean_Data, estimator=sum, palette=['r', 'g', 'b', 'c', 'y'],)\n",
    "plt.title('Sales Vs Commute Distance', fontsize=15)\n",
    "plt.xticks( fontsize=14)\n",
    "# Display the plot\n",
    "plt.show()"
   ]
  },
  {
   "cell_type": "markdown",
   "id": "1dc78711-5da3-46e8-b773-f991428fd266",
   "metadata": {},
   "source": [
    "**-->Most of sales are coming from customer are those who has less commute distance i.e. 0-1.**"
   ]
  },
  {
   "cell_type": "code",
   "execution_count": null,
   "id": "bf2721ad-a31d-4681-bb12-c4f3fe958659",
   "metadata": {},
   "outputs": [],
   "source": [
    "# Category distribution of sales by ploting Pie chart\n",
    "salesCategory = Clean_Data.groupby('Category').SalesAmount.sum()\n",
    "plt.figure(figsize = (5,5))\n",
    "plt.title('Sales Category Distribution', fontsize=20)\n",
    "salesCategory.plot(kind = 'pie', autopct='%0.2f%%', fontsize=10)"
   ]
  },
  {
   "cell_type": "markdown",
   "id": "1c645224-7df3-4dc0-83fd-6662d8919228",
   "metadata": {},
   "source": [
    "**-->97% of the sales comes from the bikes.**"
   ]
  },
  {
   "cell_type": "code",
   "execution_count": null,
   "id": "66df9c52-b9fe-4a57-8182-4d767752ab3f",
   "metadata": {},
   "outputs": [],
   "source": [
    "# Evaluating relationship between Sub Category and Sales by ploting bar graph\n",
    "\n",
    "salesSubCategory = Clean_Data.groupby ('SubCategory').SalesAmount.sum()\n",
    "plt.figure(figsize= (10,6))\n",
    "plt.title('Sales Vs Sub Category', fontsize = 15)\n",
    "plt.grid()\n",
    "salesSubCategory.plot(kind='bar')"
   ]
  },
  {
   "cell_type": "markdown",
   "id": "80ae7dec-a33d-486b-aaf4-a113135be8b9",
   "metadata": {},
   "source": [
    "**-->Majority of sales comes form Road Bikes and Mountain Bikes.**"
   ]
  },
  {
   "cell_type": "code",
   "execution_count": null,
   "id": "8f3d8e32-fea0-4559-9125-6fc8bd031872",
   "metadata": {},
   "outputs": [],
   "source": [
    "# Country Distribution of Sales by ploting Pie chart\n",
    "\n",
    "salesCategory = Clean_Data.groupby('Country').SalesAmount.sum()\n",
    "plt.figure(figsize = (5,5))\n",
    "plt.title('Sales Country Distribution', fontsize=20)\n",
    "salesCategory.plot(kind = 'pie', autopct='%0.2f%%', fontsize=10)"
   ]
  },
  {
   "cell_type": "markdown",
   "id": "455c839e-28a3-4f19-9172-c72fed58bb8e",
   "metadata": {},
   "source": [
    "**-->Most Sales comes form Australia and United States**"
   ]
  },
  {
   "cell_type": "code",
   "execution_count": null,
   "id": "59014558-292f-448c-b822-4ef6531b44d8",
   "metadata": {},
   "outputs": [],
   "source": [
    "# Evaluating relationship b/w birth date and sales by ploting line graph.\n",
    "salesBirthDate = Clean_Data.groupby('BirthDate').SalesAmount.sum()\n",
    "plt.figure(figsize = (10,6))\n",
    "plt.title('Sales by Birth Date')\n",
    "plt.xticks(fontsize = 10)\n",
    "salesBirthDate.plot(kind = 'line')"
   ]
  },
  {
   "cell_type": "markdown",
   "id": "5befdfa7-0ca2-405b-9cc3-cf2c81be516e",
   "metadata": {},
   "source": [
    "**-->Most sales by the peoples have age around 47 to 72**"
   ]
  },
  {
   "cell_type": "code",
   "execution_count": null,
   "id": "683ea675-3ac6-4a11-985c-a739499f5964",
   "metadata": {},
   "outputs": [],
   "source": []
  }
 ],
 "metadata": {
  "kernelspec": {
   "display_name": "Python 3 (ipykernel)",
   "language": "python",
   "name": "python3"
  },
  "language_info": {
   "codemirror_mode": {
    "name": "ipython",
    "version": 3
   },
   "file_extension": ".py",
   "mimetype": "text/x-python",
   "name": "python",
   "nbconvert_exporter": "python",
   "pygments_lexer": "ipython3",
   "version": "3.11.4"
  }
 },
 "nbformat": 4,
 "nbformat_minor": 5
}
